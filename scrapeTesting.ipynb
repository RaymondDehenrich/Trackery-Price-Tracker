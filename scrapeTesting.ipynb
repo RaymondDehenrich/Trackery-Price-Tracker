{
 "cells": [
  {
   "cell_type": "code",
   "execution_count": 68,
   "metadata": {},
   "outputs": [],
   "source": [
    "from selenium import webdriver\n",
    "\n",
    "# specify the path to the webdriver executable\n",
    "driver_path = './chromedriver.exe'\n",
    "\n",
    "# create a new Chrome browser instance\n",
    "browser = webdriver.Chrome(executable_path=driver_path)"
   ]
  },
  {
   "cell_type": "code",
   "execution_count": 69,
   "metadata": {},
   "outputs": [],
   "source": [
    "query = 'bakso'\n",
    "\n",
    "# construct the search URL\n",
    "search_url = f'https://www.lazada.co.id/catalog/?q={query}&_keyori=ss'\n",
    "\n",
    "# load the search page\n",
    "browser.get(search_url)\n",
    "browser.execute_script(\"window.scrollTo(0, document.body.scrollHeight);\")\n",
    "from bs4 import BeautifulSoup\n",
    "\n",
    "# get the HTML content of the page\n",
    "html_content = browser.page_source\n",
    "\n",
    "# parse the HTML content using Beautiful Soup\n",
    "soup = BeautifulSoup(html_content, 'html.parser')\n",
    "\n",
    "# find all product items on the page\n",
    "product_items = soup.find_all('div', {'class': 'c2prKC'})\n",
    "products = []\n",
    "\n",
    "for product_item in product_items:\n",
    "    # extract the product image URL\n",
    "    img = product_item.find('img')['src']\n",
    "    \n",
    "    # extract the product link\n",
    "    link = product_item.find('a')['href']\n",
    "    \n",
    "    # extract the product price\n",
    "    price = product_item.find('span', {'class': 'c13VH6'}).text\n",
    "    \n",
    "    # add the product to the list\n",
    "    products.append({'img': img, 'link': link, 'price': price})\n",
    "for product in products:\n",
    "    print(f\"Image: {product['img']}\")\n",
    "    print(f\"Link: {product['link']}\")\n",
    "    print(f\"Price: {product['price']}\")\n",
    "    print()"
   ]
  }
 ],
 "metadata": {
  "kernelspec": {
   "display_name": "base",
   "language": "python",
   "name": "python3"
  },
  "language_info": {
   "codemirror_mode": {
    "name": "ipython",
    "version": 3
   },
   "file_extension": ".py",
   "mimetype": "text/x-python",
   "name": "python",
   "nbconvert_exporter": "python",
   "pygments_lexer": "ipython3",
   "version": "3.9.12"
  },
  "orig_nbformat": 4
 },
 "nbformat": 4,
 "nbformat_minor": 2
}
