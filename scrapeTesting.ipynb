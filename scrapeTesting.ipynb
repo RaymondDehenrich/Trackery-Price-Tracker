{
 "cells": [
  {
   "cell_type": "code",
   "execution_count": 1,
   "metadata": {},
   "outputs": [],
   "source": [
    "import requests\n",
    "from bs4 import BeautifulSoup"
   ]
  },
  {
   "cell_type": "code",
   "execution_count": 35,
   "metadata": {},
   "outputs": [],
   "source": [
    "name = 'bakso+goreng'\n",
    "url = 'https://www.tokopedia.com/search?st=product&q='+name\n",
    "headers = { \n",
    "    'User-Agent': 'Mozilla/5.0 (Windows NT 10.0; Win64; x64) AppleWebKit/537.36 (KHTML, like Gecko) Chrome/110.0.0.0 Safari/537.36', \n",
    "    \"Accept\": \"text/html,application/xhtml+xml,application/xml;q=0.9,image/avif,image/webp,image/apng,*/*;q=0.8,application/signed-exchange;v=b3;q=0.7\", \n",
    "    \"Accept-Language\": \"en-US,en;q=0.9\" \n",
    "}\n",
    "response = requests.get(url,headers=headers)\n",
    "#print(response.text)\n",
    "soup = BeautifulSoup(response.text, 'html.parser')\n",
    "\n",
    "product_div = soup.find_all('div', {'class': 'css-974ipl'})"
   ]
  },
  {
   "cell_type": "code",
   "execution_count": 36,
   "metadata": {},
   "outputs": [
    {
     "name": "stdout",
     "output_type": "stream",
     "text": [
      "https://ta.tokopedia.com/promo/v1/clicks/8a-xgVY2gmUEo_UNHAUNopHDUMVj9RzNrc1i6sJDUSupg9-wq3ei6iUFUiFiPcBWgZUEH_ydHpyposydHmFiyRCsUsthoAnFbm-FQRo2PcB5QiUEHZFiqfuNPfYagVY2gmUEHpJFosJOH_1aoiFiy3hSUstiqRzwyS-5y3zwPc7ibm-XP3Oig9-wQfgwy3zpUstaHmFiQSuWyMua9fVjrOYag9Ji6sUFbm-sy9zwq3zpUs2QHp1Do_UaHmFaopHF9ZFiQBYsy3Njq3zxPcuwy3zpUsthop1DUMVi9RzBrRei6i-6UiFircYpPVYxQcri6i-srcowrfx5rVYOQSJibm-fg9-pq3YXUstiPsUibm-xgVYpyfYagZUE6AJ7bs1OoAeF6AJdHAJ7HiFirpowQcYSUstig9BGqMzUZMggQj2fgAo6QJBkQfBoe7BpZ3O6HcoD692qu7gN3_-Sq1Y2Z9xo1pzd_uzV8JO1z9xouJud_uzV8JO_Z9o-Q9zDguxjPMoW1MgsHjNfyfOuq1Y2Z9PHqjuN_32zo1Y1qpuvucDO_Oz0o1Y1qpz-q9P2yM7NPujau3Bvq1ja3M2uouBEuMhg8_CR3uP6Q1h11M26u7O7332so1ONHAVvzJNW_jzqQVjaz_VgQuB2_JoGPMoWQcNxupuM3jP3POKaQcW-qMY2_1o-r7BW69BxufzFyMFNPfoW63Wju7dF3A-Dq7BkQfBoe7BpZ37N83V9gICiQABEy1rNPOKaQcW-qMY2_1o-r7BXzsVq3JtO3AoZqVtp_3Bvq1tFyBxd6cJp1MggQj2f3uPzq1hAZS2gHsBN3ByNq3oW6_osHBu2_fB-P7B2PfBsHjNfyfO3gMHauMxsQ1N5Z325q1NkyRxHqMr7_92oP7NEe926zcPE_32Vq3gzv_7ibm-sy9zBgfYa8uYpP3PSg9o79fV7PI-2ySu7gZUE3aUaopHFUiFiHsraoaUDUsUdH_eibmUa6AnfUiFiHsrOoZ-Pbm-ag3hBPMVXyfuwrfo5rM1i6snX6AKfHAraopyd6AjR6AJ7oaFirI-2yfuwyMBjUsthoAnFbm-SQfVD9fBjUstabm-Mq3NxQVYag3hay3N09fVjrfo5rM1i6sJhH_HXopKfHA1RH_jdoAKpomFir9uBrSBwrMuDrMVXqOYpyfYagZUEHmdfHAeRH_U76_nf6_nhosJNwe?pub_domain=0&r=https%3A%2F%2Fwww.tokopedia.com%2Fbaksogorengmakicia%2Fbakso-goreng-pasar-laris-10-pcs-d-dus%3FextParam%3Divf%253Dtrue%26src%3Dtopads&pub_id=0&pub_unit=0&dv=desktop&t=desktop&keywords=bakso+goreng&management_type=2&is_search=1&page=1&ob=23&src=search\n",
      "Bakso Goreng Pasar Laris\n",
      "Rp45.000\n",
      "\n",
      "https://ta.tokopedia.com/promo/v1/clicks/8a-xgVY2gmUEH_KOo_eRoA1Obm-xgVY789CBUsthbm-Orfua9fBjUstiHmUDUSz2Q31i6sJf6AHfHpyf6AnDUMoFyaUEH_rOHmFircYpq9z2Qfdi6sUDUMWB89P5rMzwq3ei6sHFH_nfosr7oseDUMVDgaUEUMW79RCtrMVpguY7QZUDUMNOQ3-BrBY5gBYxgIHi6sUFbm-XP3Oig9-wy3zp9R-BrZUEHsnDUMoxPVY2gIHi6BDpoZFOHsUFbAURHpCPbm-X9foxQMz2gcV7guYxgIHi6sJRoZFiy3-wPcupPmUEUjdibm-FQRo79fVDgaUEUMoFyOYpqcYF9RuXrZUDUSgBrSo2Qfdi6i-fHiUDUMVj9RosQR-BUstfopUXosUhH_jRopUFo_ja6ZFirpowQcYSUstig9BGqMzUZMggQj2fgAo6QJBkQfBoe7BpZ3O6HcoD692qu7gN3_-Sq1Y2Z9P-q9P2y_-3o3ea69BqzsBE3_UN8u2_Z_g-qjVO_uzu8jO1Z_V-q9P2yM7NPujau3Bvq1ja3M2uouBEuMhg8_CR3uP6Q1h11M26u7O7332so1ONHAVvzJNW_jzqQVjaz_VgQuB2_JoGPMoWQcNxupuM3jP3POKaQcW-qMY2_1o-r7BW69BxufzFyMFNPfoW63Wju7dF3A-Dq7BkQfBoe7BpZ37N83V9gICiQABEy1rNPOKaQcW-qMY2_1o-r7BXzsVq3JtO3AoZqVtp_3Bvq1tFyBxd6cJp1MggQj2f3uPZ6cgIPACyH7-5yfOc8B2_Z9o-QjNkysoGQVKaZSBiHfzE3Bo-ojBke3BHe72E3_UN8u23692qu7gN3_-Sq1Y2Z_V6uVVO_7zVP7OJZ_zvzV1F_7zVH1NAZsjibm-sy9zBgfYa8uYpP3PSg9o79fV7PI-2ySu7gZUE3aUaopHFUiFiHsraoaUDUsUdH_eibmUa6AnfUiFiHsrOoZ-Pbm-SrMYOrVYpPI-xPcuS8ZUE3pJDHB7DUS-BQcufy3NsguYpyfYagZUEHmdNoAjfHprNosep6_rOosKObm-FrMBsguYiq3ei6sJRo_nDUMP5y3hwq3ei6sUDUMg2QMVD9R-BQI-xQMWwy3zpyfYagZUE6_e7bsyR6_KRoprfopUO6AjDUSVOg9-N9R-BQI-xQMWwrfo5rM1i6snXosHd6_1Fos1RoAUp6_JF6I7?src=search&r=https%3A%2F%2Fwww.tokopedia.com%2Frokubento%2Fbakso-goreng-homemade%3FextParam%3Divf%253Dfalse%26src%3Dtopads&pub_id=0&pub_unit=0&t=desktop&page=1&dv=desktop&pub_domain=0&keywords=bakso+goreng&ob=23&management_type=1&is_search=1\n",
      "Bakso Goreng Homemade\n",
      "Rp70.000\n",
      "\n",
      "https://ta.tokopedia.com/promo/v1/clicks/8a-xgVY2gmUEH_H76AnaH_jhbm-xgVY789CBUsthbm-Orfua9fBjUstiHmUDUSz2Q31i6sJf6AHfHpyf6AnDUMoFyaUEH_rOHmFircYpq9z2Qfdi6sHDUMWB89P5rMzwq3ei6sU76_UFo_UdH_JDUMVDgaUEUMW79RCtrMVpguY7QZUDUMNOQ3-BrBY5gBYxgIHi6sUFbm-XP3Oig9-wy3zp9R-BrZUEHsnDUMoxPVY2gIHi6BDpoZFaopnFbAURHsPPbm-X9foxQMz2gcV7guYxgIHi6sJRoZFiy3-wPcupPmUEUjdibm-FQRo79fVDgaUEUMoFyOYpqcYF9RuXrZUDUSgBrSo2Qfdi6i-fHiUDUMVj9RosQR-BUstfopKXHsyhHpHfHpefHArNHiFirpowQcYSUstig9BGqMzUZMggQj2fgAo6QJBkQfBoe7BpZ3O6HcoD692qu7gN3_-Sq1Y2Z_-HqBja_M2gHjNk3_-6qBja_M2gHjNNZ9o-Q9zDguxjPMoW1MgsHjNfyfOuq1Y2Z9PHqj1h_92V81N_Z9o-Q_ufyMO6QJBkQfB6Qujh_OPoHu29_9zoz7gk3MjFHVBEuM2Hu7jp_OzoPJN1gR2qqBJa3BP6qJN9ZMO-q9P2ysoGrVtaQIuyHB-Dy7yNrV2AZ_g-qjV2_JoGPMoWQcNxupuMy7xGPB2UuM2jzsBF3jo-ojBke3BHe72fyfODQMV9o3gsHMxfy7yNrV2AZ_g-qjV2_JoG8cz9uSBBusjF3uPj8jBkQfBjzpJdgjP7HVKaZSBiHjg0gjxdrMzc69PxZJ2typ-uq1hAZS2gHsBN3ByNq3oW6_osHBu2_fB-P7B2PfBsHjNfyfO3gMHauMxsQ1N5Z325q1N1u_uHqBJa_32-oJNJe_-68MWE_M2oq3gzv_7ibm-sy9zBgfYa8uYpP3PSg9o79fV7PI-2ySu7gZUE3aUaopHFUiFiHsraoaUDUsUdH_eibmUa6AnfUiFiHsrOoZ-Pbm-ag3hBPMVXyfuwrfo5rM1i6snX6_HFHpyaosjp6_ed6AJpoaFirI-2yfuwyMBjUsthop1Fbm-SQfVD9fBjUstabm-Mq3NxQVYag3hay3N09fVjrfo5rM1i6sjp6mdfHsUN6_1hosKOHpKpbm-hP3ua8uYag3hay3N09RosQR-BUstFbs1NoprpHs1f6AJRHsUOHAgY?t=desktop&keywords=bakso+goreng&ob=23&r=https%3A%2F%2Fwww.tokopedia.com%2Fbaksogorengmakicia%2Fbakso-goreng-frozen-isi-10%3FextParam%3Divf%253Dfalse%26src%3Dtopads&pub_id=0&pub_domain=0&page=1&dv=desktop&pub_unit=0&src=search&management_type=2&is_search=1\n",
      "Bakso Goreng Frozen isi 10\n",
      "Rp41.000\n",
      "\n",
      "https://ta.tokopedia.com/promo/v1/clicks/8a-xgVY2gmUE6AJFH_HFHsrDUMVj9RzNrc1i6sJDUSupg9-wq3ei6iUFUiFiPcBWgZUEH_ydHpyposydHmFiyRCsUsth6_1Fbm-FQRo2PcB5QiUEomFiy3hSUstirRzW9fFp9fFa9fFhUiFiQSuWyMua9fYM9fVjraUEHsnDUMNOQ3-BrBYxgIowrMuhUstaHmFiyfV79fBjraUE3pHObAURHAUDHsKhoV7DUMNwyfVXgcBjy9zB9fVjraUEH_rObm-xyBY7g9o7Usti_iUDUSC5rRzwy3hSUstiyRCs9RotQRCwP3NhUiFiPMuarfB5QiUEUSyaUiFiy3zwrfo5rM1i6s1NHidF6An7o_HRH_jhosypbm-pHOYDQfri6i-B812kgJxGgBBXZSgjH7NDZ325q1OAZ9o-Q1dFyfFN8B29zSBgHMP2_fB-P7B2PfBxHByOgAUN8u2c692gHsBN3Bo-ojBke3BHe72OysUOqB2_Z_g-qB2W_BzDqjN9uM2HuJ-t3_-gPJNI__Vg8_V2_S208jh1u_zoHBjF_MO3qBB1uMBqq1BpZ37N83V9gICiQAB03BxmgMV913Bvq1BRZ3BRq3UpZSCqHMhO3Aom83Ua1sVgHO-MyuPzq1Y2Z9P-q9P2ysoGrVtaQIuyH7N5ysomgMV913Bvq1BRZ3BRq3oyuMhsQMhMgJPcQMoNZ_g-Q9PNyjrNHfgU8IoouRxfgAod6c-J_MgoqMPd_jxd6cHp1SzMZIxk33B-r7BX_M2iH72D3A-G83UpgI2q17jfZ32oH1N_oI2vucPR_jzCoJOEe92o8jjO_Bo-r7BX_M2iH72D3Ao6QVByZM2xe7jfZ32zoJYAoI268BBd_7zoHjY1e_o68Mod_SBG6ZUDUMoDP9o7g9-wq3zwPsUi6seh6AKpbm-sy9zBgfYa8uYpP3PSg9o79fV7PI-2ySu7gZUE3aUaopHFUiFiHsraoaUDUsUdH_eibmUa6AnfUiFiHsrOoZ-Pbm-FrMBsguYiq3ei6sJNo_nDUMP5y3hwq3ei6sUDUMg2QMVD9R-BQI-xQMWwy3zpyfYagZUE6An7bsUh6_yFHsjho_HNomFir9uBrSBwrMuDrMVXqOYpyfYagZUEHmdOHsJO6AKNHsjpHAeFHS7?management_type=2&pub_unit=0&pub_domain=0&r=https%3A%2F%2Fwww.tokopedia.com%2Fpingskitchen%2Fbaso-goreng-babi-udang%3FextParam%3Divf%253Dfalse%26src%3Dtopads&keywords=bakso+goreng&pub_id=0&dv=desktop&is_search=1&ob=23&page=1&t=desktop&src=search\n",
      "Baso Goreng Babi Udang\n",
      "Rp85.000\n",
      "\n",
      "https://ta.tokopedia.com/promo/v1/clicks/8a-xgVY2gmUEosnposyfoA1DUMVj9RzNrc1i6sJDUSupg9-wq3ei6iUFUiFiPcBWgZUEH_ydHpyposydHmFiyRCsUsthH_nFbm-FQRo2PcB5QiUEoZFiy3hSUstirRzW9fFp9fFa9fFhUiFiQSuWyMua9fYM9fVjraUEHsnDUMNOQ3-BrBYxgIowrMuhUstaHmFiyfV79fBjraUE3pHObAURHAUDHsKhoV7DUMNwyfVXgcBjy9zB9fVjraUEH_rObm-xyBY7g9o7Usti_iUDUSC5rRzwy3hSUstiyRCs9RotQRCwP3NhUiFiPMuarfB5QiUEUSyaUiFiy3zwrfo5rM1i6s1R6Zd7oAHpHAKO6ArNoAKhbm-pHOYDQfri6i-B812kgJxGgBBXZSgjH7NDZ325q1O139u6qBja_M2gHjNk3_-6qBja_M2gHJB2PfBgHO-N3Ao6QVByZM2xe7jfZ32Cq1hAZS-q3cFpysoGqOKp_M2iH72DZ325q1OAZ9o-Q_ufyMO6QJBkQfB6Qujh_OPoHu29_9zoz7gk3MjFHVBEuM2Hu7jp_OzoPJN1gR2qqBJa3BP6qJN9ZMO-q9P2ysoGrVtaQIuyHB-Dy7yNrV2AZ_g-qjV2_JoGPMoWQcNxupuMy7xGPB2UuM2jzsBF3jo-ojBke3BHe72fyfODQMV9o3gsHMxfy7yNrV2AZ_g-qjV2_JoG8cz9uSBBusjF3uPj8jBkQfBizJ2pysoj6cgIPRxizpjpgjxdr77h6IBvzJ1Fgjxd8MzIH_xMz7N2Z3BRq3Ha_SgsQugM33NGPMep_Mh-qMY2_92zHjhkqpzvzJja_M2-H1N11_oozJO2_JoG8Bja69BqusBE3BPc8ujagfBvq1jF_S2sP1Y1u9B6zVBE_Ozu81NEu9BvzVu2gBJYvZUDUMoDP9o7g9-wq3zwPsUi6sJao_JFbm-sy9zBgfYa8uYpP3PSg9o79fV7PI-2ySu7gZUE3aUaopHFUiFiHsraoaUDUsUdH_eibmUa6AnfUiFiHsrOoZ-Pbm-FrMBsguYiq3ei6sJhHAnDUMP5y3hwq3ei6sUDUMg2QMVD9R-BQI-xQMWwy3zpyfYagZUEopyfbsndHpr7HpUh6ArdoAKDUSVOg9-N9R-BQI-xQMWwrfo5rM1i6snXo_H7HsnfHAUaopjf6AUho97?management_type=2&t=desktop&pub_unit=0&r=https%3A%2F%2Fwww.tokopedia.com%2Fmafredkitchen%2Fbakso-goreng-babi-udang-super-enak-by-mafred-kitchen-harga-per-5-pcs%3FextParam%3Divf%253Dfalse%26src%3Dtopads&page=1&is_search=1&pub_id=0&pub_domain=0&src=search&dv=desktop&keywords=bakso+goreng&ob=23\n",
      "Bakso Goreng Babi Udang super enak by Mafred Kitchen (harga per 5 pcs)\n",
      "Rp65.000\n",
      "\n",
      "https://www.tokopedia.com/rokubento/bakso-goreng-homemade?extParam=ivf%3Dfalse%26src%3Dsearch\n",
      "Bakso Goreng Homemade\n",
      "Rp70.000\n",
      "\n",
      "https://www.tokopedia.com/bwijkt/bakso-goreng-rebutan-ayam-udang-20-pcs-pakai-styrofoam?extParam=ivf%3Dfalse%26src%3Dsearch\n",
      "Bakso Goreng Rebutan (Ayam+Udang) 20 pcs\n",
      "Rp57.000\n",
      "\n",
      "https://www.tokopedia.com/sastakitchen/bakso-goreng-ayam-frozen-3-4-matang-sehat-tanpa-bahan-pengawet-siap-makan?extParam=ivf%3Dfalse%26src%3Dsearch\n",
      "Bakso Goreng Ayam Frozen (3/4 matang) sehat tanpa bahan pengawet\n",
      "Rp39.200\n",
      "\n",
      "https://www.tokopedia.com/baksoathien/athien-bakso-goreng-ikan-asli-belitung-600-gram?extParam=ivf%3Dfalse%26src%3Dsearch\n",
      "ATHIEN Bakso Goreng Ikan Asli Belitung 600 gram\n",
      "Rp41.050\n",
      "\n",
      "https://www.tokopedia.com/elshaddaifoodjakarta/bakso-goreng-baso-goreng-babi?extParam=ivf%3Dfalse%26src%3Dsearch\n",
      "Bakso Goreng Baso Goreng Babi\n",
      "Rp5.500\n",
      "\n"
     ]
    }
   ],
   "source": [
    "for product in product_div:\n",
    "    link_element = product.find('a', {'class': 'pcv3__info-content css-gwkf0u'})\n",
    "    link = link_element['href']\n",
    "    name_div = product.find('div',{'data-testid':'spnSRPProdName'})\n",
    "    price_div = product.find('div', {'data-testid': 'spnSRPProdPrice'})\n",
    "    # print(product_div)\n",
    "    print(link)\n",
    "    print(name_div.text)\n",
    "    print(price_div.text)\n",
    "    print(\"\")\n"
   ]
  },
  {
   "cell_type": "code",
   "execution_count": null,
   "metadata": {},
   "outputs": [],
   "source": [
    "test"
   ]
  }
 ],
 "metadata": {
  "kernelspec": {
   "display_name": "base",
   "language": "python",
   "name": "python3"
  },
  "language_info": {
   "codemirror_mode": {
    "name": "ipython",
    "version": 3
   },
   "file_extension": ".py",
   "mimetype": "text/x-python",
   "name": "python",
   "nbconvert_exporter": "python",
   "pygments_lexer": "ipython3",
   "version": "3.9.12"
  },
  "orig_nbformat": 4
 },
 "nbformat": 4,
 "nbformat_minor": 2
}
