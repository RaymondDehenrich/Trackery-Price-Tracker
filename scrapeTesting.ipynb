{
 "cells": [
  {
   "cell_type": "code",
   "execution_count": 73,
   "metadata": {},
   "outputs": [],
   "source": [
    "from selenium import webdriver\n",
    "from selenium.webdriver.chrome.options import Options\n",
    "import time\n",
    "chrome_options = Options()\n",
    "chrome_options.add_argument(\"--headless\")\n",
    "\n",
    "driver_path = './chromedriver.exe'\n",
    "\n",
    "browser = webdriver.Chrome(executable_path=driver_path, options=chrome_options)\n",
    "\n"
   ]
  },
  {
   "cell_type": "code",
   "execution_count": 74,
   "metadata": {},
   "outputs": [],
   "source": [
    "query = 'bakso'\n",
    "# construct the search URL\n",
    "search_url = f'https://www.lazada.co.id/catalog/?q={query}&_keyori=ss'\n",
    "\n",
    "# load the search page\n",
    "browser.get(search_url)\n",
    "browser.execute_script(\"window.scrollTo(300, 0);\")\n",
    "scroll_height = browser.execute_script(\"return document.body.scrollHeight\")\n",
    "while browser.execute_script(\"return window.pageYOffset + window.innerHeight\") < scroll_height:\n",
    "    browser.execute_script(\"window.scrollBy(0, 50);\")\n",
    "    time.sleep(0.1)\n",
    "from bs4 import BeautifulSoup\n",
    "\n",
    "# get the HTML content of the page\n",
    "html_content = browser.page_source\n",
    "\n",
    "# parse the HTML content using Beautiful Soup\n",
    "soup = BeautifulSoup(html_content, 'html.parser')\n",
    "\n",
    "# find all product items on the page"
   ]
  },
  {
   "cell_type": "code",
   "execution_count": 76,
   "metadata": {},
   "outputs": [
    {
     "name": "stdout",
     "output_type": "stream",
     "text": [
      "[{'img': 'https://lzd-img-global.slatic.net/g/ff/kf/S19222865a1cf4306b27d6e8ae804be7fq.jpg_200x200q80.jpg_.webp', 'link': 'www.lazada.co.id/products/boci-baso-aci-10-bungkus-gurih-lezat-pedas-nikmat-i729916324.html', 'price': 'Rp35.440', 'name': 'BOCI BASO ACI 10 BUNGKUS GURIH LEZAT PEDAS NIKMAT'}, {'img': 'https://lzd-img-global.slatic.net/g/p/58a24e7d1b6f41abe1df824732527a1b.jpg_200x200q80.jpg_.webp', 'link': 'www.lazada.co.id/products/bakso-aci-isi-6biji-baso-aci-hot-jeletot-i3318384718.html', 'price': 'Rp7.000', 'name': 'Bakso Aci Isi 6biji baso Aci hot Jeletot'}, {'img': 'https://lzd-img-global.slatic.net/g/ff/kf/Hf9e603242e0e436e905d9e73fc62fa7ea.jpg_200x200q80.jpg_.webp', 'link': 'www.lazada.co.id/products/baso-aci-paket-termurah-i5063046414.html', 'price': 'Rp3.731', 'name': 'BASO ACI PAKET TERMURAH'}, {'img': 'https://lzd-img-global.slatic.net/g/p/9971f891585345dc0ca7165e4b12dbdf.jpg_200x200q80.jpg_.webp', 'link': 'www.lazada.co.id/products/baso-urat-plus-cuanki-jontor-i4816240929.html', 'price': 'Rp12.653', 'name': 'baso urat plus cuanki jontor'}, {'img': 'https://lzd-img-global.slatic.net/g/p/321f8c50d79fe5c58a0d12920d234f02.jpg_200x200q80.jpg_.webp', 'link': 'www.lazada.co.id/products/baso-aci-khas-garut-bakso-aci-uhuuy-i5062844620.html', 'price': 'Rp10.899', 'name': 'Baso Aci Khas Garut - Bakso Aci Uhuuy'}, {'img': 'https://lzd-img-global.slatic.net/g/p/5566a899d613f638081629c827a93cfd.jpg_200x200q80.jpg_.webp', 'link': 'www.lazada.co.id/products/sehot-baso-aci-boci-sehot-bandung-jawara-pedas-cuanki-sehot-cemilan-instan-boci-tulang-rangu-69-i5721536290.html', 'price': 'Rp6.900', 'name': 'SEHOT Baso Aci BoCi sehot bandung jawara pedas Cuanki sehot Cemilan Instan Boci tulang rangu 69'}, {'img': 'https://lzd-img-global.slatic.net/g/ff/kf/S5eecb3d3685e4828adf6dabe1b424c27V.jpg_200x200q80.jpg_.webp', 'link': 'www.lazada.co.id/products/baso-urat-plus-baso-krikil-kumplit-bumbu-terpisah-i6079258629.html', 'price': 'Rp25.000', 'name': 'baso urat plus baso krikil kumplit bumbu terpisah'}, {'img': 'https://lzd-img-global.slatic.net/g/p/ecd05e0b35443eb6d24951eac24826d4.jpg_200x200q80.jpg_.webp', 'link': 'www.lazada.co.id/products/boci-baso-aci-5-bungkus-asli-garut-gurih-lezat-pedas-nikmat-i729876837.html', 'price': 'Rp16.940', 'name': 'BOCI BASO ACI 5 BUNGKUS ASLI GARUT GURIH LEZAT PEDAS NIKMAT'}, {'img': 'https://lzd-img-global.slatic.net/g/ff/kf/Sb8518358ca9740f89c6b7a8e316d2551b.jpg_200x200q80.jpg_.webp', 'link': 'www.lazada.co.id/products/baso-aci-1-bungkus-i729876315.html', 'price': 'Rp3.317', 'name': 'BASO ACI 1 BUNGKUS'}, {'img': 'https://lzd-img-global.slatic.net/g/p/e6735a47920741c44f56f9bf85620536.jpg_200x200q80.jpg_.webp', 'link': 'www.lazada.co.id/products/bakso-tulang-rangu-sapi-uhuuy-baso-aci-baso-aci-tulang-rangu-boci-baso-aci-uhuuy-bakso-aci-i5686980152.html', 'price': 'Rp12.999', 'name': 'Bakso Tulang Rangu Sapi Uhuuy - Baso Aci - Baso Aci Tulang Rangu - Boci - Baso Aci Uhuuy - Bakso Aci'}, {'img': 'https://lzd-img-global.slatic.net/g/ff/kf/S39d42727c83547a58a2c16b60998c4777.jpg_200x200q80.jpg_.webp', 'link': 'www.lazada.co.id/products/baso-aci-instan-boci-garut-viral-komplit-kemasan-biasa-paket-hemat-i5399500273.html', 'price': 'Rp3.360', 'name': 'Baso Aci Instan Boci Garut Viral Komplit Kemasan Biasa Paket Hemat'}, {'img': 'https://lzd-img-global.slatic.net/g/p/48a156cc375af2c22998bade36506b9e.jpg_200x200q80.jpg_.webp', 'link': 'www.lazada.co.id/products/baso-aci-teh-shanty-original-boci-yamin-teh-shanty-khas-garut-tulang-rangu-pedas-denny-cagur-bapper-i5721376973.html', 'price': 'Rp14.650', 'name': 'Baso Aci Teh Shanty ORIGINAL BOCI Yamin TEH SHANTY Khas Garut Tulang Rangu Pedas Denny Cagur bapper'}, {'img': 'https://lzd-img-global.slatic.net/g/ff/kf/Sa5a5e3cfa8454336994c2a919f3ed84co.jpg_200x200q80.jpg_.webp', 'link': 'www.lazada.co.id/products/baso-aci-tulang-rangu-1-bungkus-i734352681.html', 'price': 'Rp7.500', 'name': 'BASO ACI TULANG RANGU ( 1 BUNGKUS)'}, {'img': 'https://lzd-img-global.slatic.net/g/ff/kf/S161e704157a04e6bbf8f45d4b067f4916.jpg_200x200q80.jpg_.webp', 'link': 'www.lazada.co.id/products/baso-aci-boci-sehot-ratusan-ribu-terjual-dilazada-termurah-terlaris-enak-nagih-i5932976204.html', 'price': 'Rp8.909', 'name': 'Baso Aci Boci Sehot ratusan ribu terjual dilazada termurah terlaris enak nagih'}, {'img': 'https://lzd-img-global.slatic.net/g/ff/kf/S37b64a5773724dc68e774cbf92df38e84.jpg_200x200q80.jpg_.webp', 'link': 'www.lazada.co.id/products/boci-baso-aci-20-bungkus-i756514379.html', 'price': 'Rp80.000', 'name': 'BOCI BASO ACI  20 BUNGKUS'}, {'img': 'https://lzd-img-global.slatic.net/g/ff/kf/Sc80919da58414334b40e72662e4b01b03.jpg_200x200q80.jpg_.webp', 'link': 'www.lazada.co.id/products/baso-aci-jumbo-instan-by-chalisa-12-baso-aci-jumbo-toping-lengkap-i5795126519.html', 'price': 'Rp5.527', 'name': 'Baso Aci Jumbo instan By Chalisa 12 Baso Aci Jumbo Toping Lengkap'}, {'img': 'https://lzd-img-global.slatic.net/g/p/8ec58408cea4ff20e05cb561dffd44db.jpg_200x200q80.jpg_.webp', 'link': 'www.lazada.co.id/products/baso-aci-sehot-kemasan-elegan-harga-termurah-i5095244459.html', 'price': 'Rp8.730', 'name': 'baso aci sehot kemasan elegan  harga termurah'}, {'img': 'https://lzd-img-global.slatic.net/g/ff/kf/S69cdbe2250ce4ae3a6e9640bab790b9fB.jpg_200x200q80.jpg_.webp', 'link': 'www.lazada.co.id/products/baso-aci-isi-ayam-suwir-paket-hemat-bakso-instan-khas-garut-murah-toping-komplit-i6043164644.html', 'price': 'Rp3.707', 'name': 'BASO ACI ISI AYAM SUWIR PAKET HEMAT BAKSO INSTAN KHAS GARUT MURAH TOPING KOMPLIT'}, {'img': 'https://lzd-img-global.slatic.net/g/ff/kf/S3c11283cf3ca46af98d922a3e31b6557X.jpg_200x200q80.jpg_.webp', 'link': 'www.lazada.co.id/products/paket-hemat-5-bks-boci-sehot-paling-murah-i5936362353.html', 'price': 'Rp45.000', 'name': 'paket hemat 5 bks boci sehot paling murah'}, {'img': 'https://lzd-img-global.slatic.net/g/ff/kf/S8364b7c4b451408e858331dd23cdcb11C.jpg_200x200q80.jpg_.webp', 'link': 'www.lazada.co.id/products/baso-aci-isi6-biji-khas-bandung-hot-jeletot-termurah-harga-satuanbaso-aci-bomberbaso-aci-termurah-i5779982915.html', 'price': 'Rp3.170', 'name': 'baso Aci isi6 biji khas Bandung HOT jeletot Termurah Harga Satuan/BASO ACI BOMBER/BASO ACI TERMURAH'}, {'img': 'https://lzd-img-global.slatic.net/g/ff/kf/Sa20b083fad114d2a8861d9b5d5270531z.jpg_200x200q80.jpg_.webp', 'link': 'www.lazada.co.id/products/baso-aci-tulang-rangu-boci-cirawang-by-janeeta-khas-garut-i5795136360.html', 'price': 'Rp8.450', 'name': 'Baso Aci Tulang Rangu Boci Cirawang By Janeeta Khas Garut'}, {'img': 'https://lzd-img-global.slatic.net/g/p/e44023ab6f2604460c3344fe5d2e6737.jpg_200x200q80.jpg_.webp', 'link': 'www.lazada.co.id/products/baso-aci-homemade-boci-isi12-bakso-aci-termurah-baso-aci-fresh-seblak-abah-toppoki-rabokki-ayam-suir-jeletot-khas-bandung-garut-i6258542735.html', 'price': 'Rp1.500', 'name': 'BASO ACI HOMEMADE boci isi12 bakso aci termurah baso aci fresh seblak abah Toppoki Rabokki ayam suir jeletot khas bandung garut'}, {'img': 'https://lzd-img-global.slatic.net/g/p/321f8c50d79fe5c58a0d12920d234f02.jpg_200x200q80.jpg_.webp', 'link': 'www.lazada.co.id/products/baso-aci-premium-uhuuy-bakso-aci-boci-i5054582248.html', 'price': 'Rp11.350', 'name': 'Baso Aci Premium UHUUY - Bakso Aci - Boci'}, {'img': 'https://lzd-img-global.slatic.net/g/ff/kf/Sb3c3f5fd89bd4b7ca2ba0e3ff035ebecr.jpg_200x200q80.jpg_.webp', 'link': 'www.lazada.co.id/products/baso-aci-isi-baso-nya-aja-boci-paket-hanya-baso-banyak-varian-i6130044871.html', 'price': 'Rp2.000', 'name': 'Baso Aci Isi ( Baso nya aja ) Boci Paket Hanya Baso Banyak Varian'}, {'img': 'https://lzd-img-global.slatic.net/g/ff/kf/Se9571dd866634c63a3dba46ef2762befd.jpg_200x200q80.jpg_.webp', 'link': 'www.lazada.co.id/products/siomay-mini-kering-250-gram-gurilem-toping-baso-aci-berbagai-rasa-i6997062486.html', 'price': 'Rp9.000', 'name': 'Siomay Mini Kering 250 gram Gurilem Toping Baso Aci Berbagai Rasa'}, {'img': 'https://lzd-img-global.slatic.net/g/ff/kf/S4d22b4091cf84c1dac449ace453ef6b1K.jpg_200x200q80.jpg_.webp', 'link': 'www.lazada.co.id/products/bakso-aci-instan-khas-bandung-termurah-hot-jeletot-i3307584366.html', 'price': 'Rp2.553', 'name': 'Bakso Aci Instan Khas Bandung TERMURAH hot Jeletot'}, {'img': 'https://lzd-img-global.slatic.net/g/ff/kf/Sdd3f3ff946a342ccbef3674e84e33356d.jpg_200x200q80.jpg_.webp', 'link': 'www.lazada.co.id/products/termurah-baso-aci-instan-komplit-bakso-polos-tanpa-isi-boci-komplit-harga-hemat-i6762694441.html', 'price': 'Rp1.000', 'name': 'TERMURAH Baso Aci Instan Komplit Bakso Polos / Tanpa Isi Boci Komplit Harga Hemat'}, {'img': 'https://lzd-img-global.slatic.net/g/ff/kf/S6cbcb4ca36014c6daf566070e92f9573d.jpg_200x200q80.jpg_.webp', 'link': 'www.lazada.co.id/products/baso-aci-khas-bandung-jeletot-sehahbaso-aci-bomberbaso-aci-murah-i6803948391.html', 'price': 'Rp3.959', 'name': 'Baso aci khas bandung jeletot sehah/baso aci bomber/baso aci murah'}, {'img': 'https://lzd-img-global.slatic.net/g/ff/kf/Sa9320fd189c44517a648a1422c1cab94s.jpg_200x200q80.jpg_.webp', 'link': 'www.lazada.co.id/products/baso-aci-mie-dower-isi-lebih-banyak-jumbo-paket-1-bungkus-i5827360197.html', 'price': 'Rp4.500', 'name': 'Baso Aci + Mie Dower isi Lebih Banyak Jumbo Paket 1 Bungkus'}, {'img': 'https://lzd-img-global.slatic.net/g/ff/kf/Sd3014accedb84895b78e711d49b545b4v.jpg_200x200q80.jpg_.webp', 'link': 'www.lazada.co.id/products/boci-baso-aci-garut-3-bungkus-gurih-lezat-pedas-nikmat-i729886914.html', 'price': 'Rp9.770', 'name': 'BOCI BASO ACI GARUT 3 BUNGKUS GURIH LEZAT PEDAS NIKMAT'}, {'img': 'https://lzd-img-global.slatic.net/g/ff/kf/S6cdb2b5cbf14412daf76a5c918b85c852.jpg_200x200q80.jpg_.webp', 'link': 'www.lazada.co.id/products/bakso-aci-instan-khas-bandung-harga-grosir-termurah-bakso-aci-terlaris-hot-jeletot-i3969126119.html', 'price': 'Rp3.229', 'name': 'Bakso Aci Instan khas Bandung Harga Grosir TERMURAH Bakso Aci terlaris hot Jeletot'}, {'img': 'https://lzd-img-global.slatic.net/g/ff/kf/S59f007c7812f44398652ad21f10fbab2W.jpg_200x200q80.jpg_.webp', 'link': 'www.lazada.co.id/products/baso-aci-tulang-rangu-viral-khas-garut-gurih-pedas-geprek-kemasan-premium-1pc-i811104270.html', 'price': 'Rp9.152', 'name': 'Baso Aci Tulang Rangu Viral Khas Garut Gurih Pedas Geprek Kemasan Premium 1pc'}, {'img': 'https://lzd-img-global.slatic.net/g/ff/kf/S9eb5edce300c4c05a35c6ee96409df500.jpg_200x200q80.jpg_.webp', 'link': 'www.lazada.co.id/products/baso-aci-ayam-paket-5-bungkus-i5872370440.html', 'price': 'Rp17.500', 'name': 'Baso Aci Ayam paket 5 Bungkus'}, {'img': 'https://lzd-img-global.slatic.net/g/p/58845f5de386321e69d55a0c9c863c81.png_200x200q80.png_.webp', 'link': 'www.lazada.co.id/products/baso-aci-ayam-suir-keripixid-i1649844230.html', 'price': 'Rp6.999', 'name': 'Baso Aci Ayam Suir | Keripix.id'}, {'img': 'https://lzd-img-global.slatic.net/g/ff/kf/Sfffbc55fd3374af08220cb0d0e890e8fC.jpg_200x200q80.jpg_.webp', 'link': 'www.lazada.co.id/products/baso-aci-instan-komplit-janeeta-murah-khas-garut-boci-garut-i4893410049.html', 'price': 'Rp4.698', 'name': 'Baso Aci Instan Komplit Janeeta Murah Khas Garut/ Boci Garut'}, {'img': 'https://lzd-img-global.slatic.net/g/p/b778d653efc70e18648e3ffa3127ad97.jpg_200x200q80.jpg_.webp', 'link': 'www.lazada.co.id/products/paket-1-pcs-baso-aci-ayam-suir1-bungkus-i6417166225.html', 'price': 'Rp5.750', 'name': 'PAKET 1 PCS Baso Aci Ayam Suir(1 BUNGKUS)'}, {'img': 'https://lzd-img-global.slatic.net/g/ff/kf/S513b2af6b3fa43a4bc98c29dc97a51cfq.jpg_200x200q80.jpg_.webp', 'link': 'www.lazada.co.id/products/baso-aci-aja-isi-12-butir-terlaris1-bungkus-i5680610731.html', 'price': 'Rp2.000', 'name': 'Baso Aci Aja Isi 12 Butir Terlaris/(1) bungkus'}, {'img': 'https://lzd-img-global.slatic.net/g/p/c771116cde6101c0be3f81773d6093c2.jpg_200x200q80.jpg_.webp', 'link': 'www.lazada.co.id/products/baso-geprek-tulang-rangu-sami-raos-asli-garut-makan-instant-siap-saji-enak-murah-pedasnya-juara-i6080106573.html', 'price': 'Rp9.360', 'name': 'Baso Geprek Tulang Rangu Sami Raos asli Garut makan instant siap saji enak, murah, pedasnya juara'}, {'img': 'https://lzd-img-global.slatic.net/g/ff/kf/S64335bd4ea594b6d884535aa804b9881k.jpg_200x200q80.jpg_.webp', 'link': 'www.lazada.co.id/products/boci-baso-aci-1-bungkus-asli-garut-gurih-lezat-pedas-nikmat-mantap-i6192982990.html', 'price': 'Rp4.500', 'name': 'BOCI BASO ACI 1 BUNGKUS ASLI GARUT GURIH LEZAT PEDAS NIKMAT MANTAP'}, {'img': 'https://lzd-img-global.slatic.net/g/p/734b14277c891835489670d25eba6b96.jpg_200x200q80.jpg_.webp', 'link': 'www.lazada.co.id/products/geprek-baso-aci-geprek-samiraos-tulang-rangu-asli-garut-boci-instant-samiraos-i2026108505.html', 'price': 'Rp13.000', 'name': 'GEPREK Baso Aci Geprek samiraos tulang rangu asli garut boci instant Samiraos'}]\n"
     ]
    }
   ],
   "source": [
    "product_items = soup.find_all('div', {'class': 'Bm3ON'})\n",
    "products = []\n",
    "#print(product_items)\n",
    "\n",
    "for product_item in product_items:\n",
    "    #print(product_item)\n",
    "    # extract the product image URL\n",
    "    img = product_item.find('img',{'class':'jBwCF'})['src']\n",
    "    name = product_item.find('img',{'class':'jBwCF'})['alt']\n",
    "    # extract the product link\n",
    "    link = product_item.find('a')['href']\n",
    "    link = link.replace(\"//\", \"\")\n",
    "    # extract the product price\n",
    "    price = product_item.find('span', {'class': 'ooOxS'}).text\n",
    "    \n",
    "    # add the product to the list\n",
    "    products.append({'img': img, 'link': link, 'price': price,'name':name})\n",
    "print(products)\n",
    "# for product in products:\n",
    "#     print(f\"name: {product['name']}\")\n",
    "#     print(f\"Image: {product['img']}\")\n",
    "#     print(f\"Link: {product['link']}\")\n",
    "#     print(f\"Price: {product['price']}\")\n",
    "#     print()"
   ]
  },
  {
   "cell_type": "code",
   "execution_count": 77,
   "metadata": {},
   "outputs": [],
   "source": [
    "import requests\n",
    "from bs4 import BeautifulSoup"
   ]
  },
  {
   "cell_type": "code",
   "execution_count": 78,
   "metadata": {},
   "outputs": [],
   "source": [
    "def scrapeTokopedia(name='bakso'):\n",
    "    url = 'https://www.tokopedia.com/search?st=product&q='+name\n",
    "    headers = { \n",
    "    'User-Agent': 'Mozilla/5.0 (Windows NT 10.0; Win64; x64) AppleWebKit/537.36 (KHTML, like Gecko) Chrome/110.0.0.0 Safari/537.36', \n",
    "    \"Accept\": \"text/html,application/xhtml+xml,application/xml;q=0.9,image/avif,image/webp,image/apng,*/*;q=0.8,application/signed-exchange;v=b3;q=0.7\", \n",
    "    \"Accept-Language\": \"en-US,en;q=0.9\" \n",
    "    }\n",
    "    response = requests.get(url,headers=headers)\n",
    "    soup = BeautifulSoup(response.text, 'html.parser')\n",
    "\n",
    "    product_div = soup.find_all('div', {'data-testid': 'master-product-card'})\n",
    "    data_list = [\n",
    "    {\n",
    "        'link': product.find('a', {'class': 'pcv3__info-content css-gwkf0u'})['href'],\n",
    "        'img_src': product.find('img', {'class': 'css-1q90pod'})['src'],\n",
    "        'name': product.find('div', {'data-testid': 'spnSRPProdName'}).text.strip(),\n",
    "        'price': product.find('div', {'data-testid': 'spnSRPProdPrice'}).text.strip()\n",
    "    }\n",
    "    for product in product_div\n",
    "    ]\n",
    "    return data_list"
   ]
  },
  {
   "cell_type": "code",
   "execution_count": 80,
   "metadata": {},
   "outputs": [
    {
     "name": "stdout",
     "output_type": "stream",
     "text": [
      "{'link': 'https://ta.tokopedia.com/promo/v1/clicks/8a-xgVY2gmUEH_JpopUaosJFbm-xgVY789CBUsthbm-Orfua9fBjUstiHmUDUSz2Q31i6sJf6AHf6Arho_UDUMoFyaUEHsUFHmFircYpq9z2Qfdi6sJDUMVDgaUEUSo7QuYDHOYDHBYDHZUDUMNOQ3-BrBY5gBYxgIHi6sUFbm-XP3Oig9-wy3zp9R-BrZUEHsnDUMoxPVY2gIHi6BDpoZFOHsUFbAURHpCPbm-X9foxQMz2gcV7guYxgIHi6sUFoZFiy3-wPcupPmUEUjdibm-FQRo79fVDgaUEUMoFyOYpqcYF9RuXrZUDUSgBrSo2Qfdi6i-fHiUDUMVj9RosQR-BUstdH_eXopjhH_1fH_ehHAJhbm-pHOYDQfri6i-B812kgJxGgBBXZSgjH7NDZ325q1Oku3BHe72kgJxGgMHauMxsQ1N5Z325q1ONoAuvzVVR_M2oH7NJu9PoucDO_32C8jB2PfBxHByOgAUN8u2c692gHsBN3Bo-ojBke3BHe72OysUOqB2_Z_g-qB-23BzDqV2JeMxHuOJa_7P-PJNJ1MW6epnO3BPoP7h91_-guJuE392SP7O1gcO6q1BpZ37N83V9gICiQAB03BxmgMV913Bvq1BRZ3BRq3UpZSCqHMhO3Aom83Ua1sVgHO-MyuPzq1Y2Z9P-q9P2ysoGrVtaQIuyH7N5ysomgMV913Bvq1BRZ3BRq3oyuMhsQMhMgJPcQMoNZ_g-Q9PE3I2-H7OEesxMzRPNyjrNHfgU8IoouRxfgAod6cHp1SzMZIxk33B-r7BX_M2iH72D3A-G83UpgI2q17jfZ32o81OAoI2ouVuN_1zuo1N1qRBvucoR_9B-r7BX_M2iH72D3Ao6QVByZM2xe7jfZ32gH7O2oIP68Mrh_7zSP7OEqRxoqMoNZ3dFvZUDUMoDP9o7g9-wq3zwPsUi6sJ76AeObm-sy9zBgfYa8uYpP3PSg9o79fV7PI-2ySu7gZUE3aUaopHFUiFiHsHFomUDUsURHsribmUa6AnfUiFiHsKhom-Pbm-FrMBsguYiq3ei6sUaHAnDUMP5y3hwq3ei6sUDUMg2QMVD9R-BQI-xQMWwy3zpyfYagZUEH_nNHidfHsHhoAja6_HpHsrObm-hP3ua8uYag3hay3N09RosQR-BUstFbsefH_jRH_nOopHd6Aja6AoY?r=https%3A%2F%2Fwww.tokopedia.com%2Fcakrawalaindah%2Fbaso-sapi-warisan-319-isi-50-pcs-termurah%3FextParam%3Divf%253Dfalse%26src%3Dtopads&pub_id=0&page=1&is_search=1&pub_domain=0&dv=desktop&t=desktop&src=search&keywords=bakso&pub_unit=0&ob=23&management_type=2', 'img_src': 'https://images.tokopedia.net/img/cache/200-square/VqbcmM/2021/6/24/afdf0e1d-2458-419b-b8d4-32720eea73d0.jpg', 'name': 'Baso sapi warisan 319 isi 50 pcs TERMURAH!!!', 'price': 'Rp27.500'}\n",
      "\n",
      "{'link': 'https://ta.tokopedia.com/promo/v1/clicks/8a-xgVY2gmUE6_1RHAy7o_KDUMVj9RzNrc1i6sJDUSupg9-wq3ei6iUFUiFiPcBWgZUEH_ydHpydopJOHiFiyRCsUsth6AnFbm-FQRo2PcB5QiUEHiFiy3hSUstirRzW9fFp9fFa9fFhUiFiQSuWyMua9fYM9fVjraUEHsnDUMNOQ3-BrBYxgIowrMuhUstaHmFiyfV79fBjraUE3pHObA1aHsnDHsrpHV7DUMNwyfVXgcBjy9zB9fVjraUEHsnObm-xyBY7g9o7Usti_iUDUSC5rRzwy3hSUstiyRCs9RotQRCwP3NhUiFiPMuarfB5QiUEUSyaUiFiy3zwrfo5rM1i6syRHidOH_1NH_JRosHdosnabm-pHOYDQfri6i-B812kgJxGgBBXZSgjH7NDZ325q1OAZ9o-Q1dFyfFN8B29zSBgHMP2_fB-H7hk3_uoqjOR_S2go1Ok_9P68BjO_32uq1hAZS-q3cFpysoGqOKp_M2iH72DZ325q1OAZ9o-Q_ufyMO6QJBkQfB6z72D_OPcq7OIz9zqzVj733jFHJNI1_CHuchD392CPV2J3MxouJNk_7zC8Jda3_--q9P2ysoGrVtaQIuyHB-Dy7yNrV2AZ_g-qjV2_JoGPMoWQcNxupuMy7xGPB2UuM2jzsBF3jo-ojBke3BHe72fyfODQMV9o3gsHMxfy7yNrV2AZ_g-qjV2_JoG8cz9uSBBusjF3uPj8jBkQfBizJNM_32s8jOU8AxizJ2pysoj6cgIPRxizpjpgjxd8MzIH_xMz7N2Z3BRq3Ha_SgsQugM33NGPMep_Mh-qMY2_92Co1hke9PozcPd_1zz81N1ypV6qMrpZ3BRq3Ha_SgsQugMyp-3qcoW_MY-qMY2_BzuHJhkyRBo8j17_920H7YJu_C617tNUiFiyfhOrRzBrBY2gVYfHiUEH_rhH_nDUMoxPcuSQR-N9RoOgfPBrRzwy9z7rMBiP9zBUs2QUsURHpnibmUaHpn7UiFiHsraoaUDUsUdHAyibmUa6AJ7UB7DUSCaq3oB9f-2gmUEH_KFHmFigfYxQVY2gmUEHiFigMBXy3hwrMuDrMVXqOYxgIosQR-BUstdHpKXHpjRHpHO6_rFopyOHiFir9uBrSBwrMuDrMVXqOYpyfYagZUEHmdpH_HpH_1N6AH7opeho_jRwe?t=desktop&is_search=1&r=https%3A%2F%2Fwww.tokopedia.com%2Fhoktung-mart%2Fbakso-es-teler-baso-sapi-es-teler-besar-mini-mini%3FextParam%3Divf%253Dfalse%26src%3Dtopads&management_type=2&page=1&keywords=bakso&ob=23&pub_id=0&pub_domain=0&src=search&pub_unit=0&dv=desktop', 'img_src': 'https://images.tokopedia.net/img/cache/200-square/VqbcmM/2022/2/25/7accb665-8bc8-4b10-8e6f-277186de8e9b.png', 'name': 'Bakso Es Teler Baso Sapi Es Teler Besar/Mini', 'price': 'Rp28.700'}\n",
      "\n",
      "{'link': 'https://ta.tokopedia.com/promo/v1/clicks/8a-xgVY2gmUEH_r7o_nRo_rabm-xgVY789CBUsthbm-Orfua9fBjUstiHmUDUSz2Q31i6sJf6AHf6Arho_UDUMoFyaUEHsJFHmFircYpq9z2Qfdi6sHDUMVDgaUEUSo7QuYDHOYDHBYDHZUDUMNOQ3-BrBY5gBYxgIHi6sUFbm-XP3Oig9-wy3zp9R-BrZUEHsnDUMoxPVY2gIHi6BDpoZFOHsUFbAURHpCPbm-X9foxQMz2gcV7guYxgIHi6sUFoZFiy3-wPcupPmUEUjdibm-FQRo79fVDgaUEUMoFyOYpqcYF9RuXrZUDUSgBrSo2Qfdi6i-fHiUDUMVj9RosQR-BUstfHAJX6_rNopj7HsJpopJRomFirpowQcYSUstig9BGqMzUZMggQj2fgAo6QJBkQfBoe7BpZ3O6HcoD692qu7gN3_-Sq1Y2Z_zHqjOE_92o8jOE_92o8jOE_92o8jO2Z9o-Q9zDguxjPMoW1MgsHjNfyfOuq1Y2Z9P-q9P2yM7NPujau3Bvq1jF33OuouB919Pg1pV0_M2tq1h11_CqzVV7_OP3qjOAH3W6Q1ud__-ooJOJz_oqqBB2_JoGPMoWQcNxupuM3jP3POKaQcW-qMY2_1o-r7BW69BxufzFyMFNPfoW63Wju7dF3A-Dq7BkQfBoe7BpZ37N83V9gICiQABEy1rNPOKaQcW-qMY2_1o-r7BXzsVq3JtO3AoZqVtp_3Bvq12p__Jd81NE_9PMZIxp_3OdPMep8AxizJgpysoj6cgU_sCi3IKd3_--q1hAZS2gHsBN3ByNq3oW6_osHBu2_fB-8jNkyRuvucHh_1zoo1OJ__V6uJ7O_Oo-r7BX_M2iH72D3Ao6QVByZM2xe7jfZ32zo1N2oAV6zJ1a_92VHjNJgpo6qjj7_MBG6ZUDUMoDP9o7g9-wq3zwPsUi6sJRH_JFbm-sy9zBgfYa8uYpP3PSg9o79fV7PI-2ySu7gZUE3aUaopHFUiFiHsHFomUDUsURHsribmUa6AnfUiFiHsKhom-Pbm-FrMBsguYiq3ei6sUhHAnDUMP5y3hwq3ei6sUDUMg2QMVD9R-BQI-xQMWwy3zpyfYagZUEopypbsyfH_jfH_JaHsjaHprDUSVOg9-N9R-BQI-xQMWwrfo5rM1i6snXHpURH_ydHAKO6_Jf6AydH_oY?t=desktop&ob=23&is_search=1&pub_id=0&page=1&r=https%3A%2F%2Fwww.tokopedia.com%2Fsuccessfreshmart%2Fbakso-sapi-gepeng-isi-50%3FextParam%3Divf%253Dfalse%26src%3Dtopads&pub_unit=0&management_type=1&dv=desktop&src=search&keywords=bakso&pub_domain=0', 'img_src': 'https://images.tokopedia.net/img/cache/200-square/VqbcmM/2021/7/23/8231f5f1-1342-4125-bdf1-a751f351977d.jpg', 'name': 'Bakso Sapi Gepeng isi 50', 'price': 'Rp44.000'}\n",
      "\n",
      "{'link': 'https://ta.tokopedia.com/promo/v1/clicks/8a-xgVY2gmUEH_JfH_K7Hsyhbm-xgVY789CBUsthbm-Orfua9fBjUstiHmUDUSz2Q31i6sJf6AHf6Arho_UDUMoFyaUEH_HOHmFircYpq9z2Qfdi6seDUMWB89P5rMzwq3ei6sJdoAjFo_HRHA1DUMVDgaUEUMW79RCtrMVpguY7QZUDUMNOQ3-BrBY5gBYxgIHi6sUFbm-XP3Oig9-wy3zp9R-BrZUEHsnDUMoxPVY2gIHi6BDpoZFOHsUFbAURHpCPbm-X9foxQMz2gcV7guYxgIHi6sUFoZFiy3-wPcupPmUEUjdibm-FQRo79fVDgaUEUMoFyOYpqcYF9RuXrZUDUSgBrSo2Qfdi6i-fHiUDUMVj9RosQR-BUstOHpeX6AHdoAK7HpUpoAjfbm-pHOYDQfri6i-B812kgJxGgBBXZSgjH7NDZ325q1OAZ9o-Q1dFyfFN8B29zSBgHMP2_fB-H1B2PfBxHByOgAUN8u2c692gHsBN3Bo-ojBke9uouJ17_uz-H1B2PfBiQ_BO3_-uq1Y2Z_CgQu1O3uPzPOB_H3W6qMx2_VzzHV2J19zvuOgk_1Hhq7NWz9xoHj77_1zVHO2k33BHe72fyfODQMV9o3gqzOgR3A-Dq7BkQfBoe7BpZ37N83V9gICiQABRyf7Nqfz9_sCyHMh0Z325q1OAZ9o-Q_BNyuPjrc-D692xzpBR3A-Dq7BkQfBoe7BpZ3NcHu2yZsuyHO-t3sooq1Y2ZsCi3IKdy_oZgBBXZSgguOUdgjP7HVKpeMYsQ1gE3Bo-r7BX_M2iH72D3A-G83UpgI2q17jfZ32Cq1hAZS2gHsBN3ByN8B29zSBgHMP2_fB-HJNJz9uouVBR_32soJN1z92ozJjO_OoG6ZUDUMoxPcuSQR-N9RoOgfPBrRzwy9z7rMBiP9zBUs2QUsURHpnibmUaHpn7UiFiHsraoaUDUsUdHAyibmUa6AJ7UB7DUS-BQcufy3NsguYpyfYagZUEHmdNH_ea6_ra6AypH_eFoAeDUSCaq3oB9f-2gmUEH_HOHmFigfYxQVY2gmUEHiFigMBXy3hwrMuDrMVXqOYxgIosQR-BUstRHsUXHArho_nposy7osrRHiFir9uBrSBwrMuDrMVXqOYpyfYagZUEHmdOopnhoArd6_e7opHao_epwe?pub_id=0&src=search&management_type=1&dv=desktop&r=https%3A%2F%2Fwww.tokopedia.com%2Fhijrahfood%2Fbakso-sapi-sumber-selera-sb-serbaguna-all-purpose-meatballs-sb-serbaguna-25-pcs%3FextParam%3Divf%253Dfalse%2526whid%253D14188081%26src%3Dtopads&pub_domain=0&ob=23&page=1&keywords=bakso&pub_unit=0&is_search=1&t=desktop', 'img_src': 'https://images.tokopedia.net/img/cache/200-square/VqbcmM/2022/11/28/a63d053c-d1dd-4baa-a708-bad37d07c72d.jpg', 'name': 'Bakso Sapi Sumber Selera SB SERBAGUNA | All-Purpose Meatballs', 'price': 'Rp28.900'}\n",
      "\n",
      "{'link': 'https://ta.tokopedia.com/promo/v1/clicks/8a-xgVY2gmUEHsefosHhHAyDUMVj9RzNrc1i6sJDUSupg9-wq3ei6iUFUiFiPcBWgZUEH_ydHpydopJOHiFiyRCsUsthoAnFbm-FQRo2PcB5QiUEoZFiy3hSUstirRzW9fFp9fFa9fFhUiFiQSuWyMua9fYM9fVjraUEHsnDUMNOQ3-BrBYxgIowrMuhUstaHmFiyfV79fBjraUE3pHObA1aHsnDHsrpHV7DUMNwyfVXgcBjy9zB9fVjraUEHsnObm-xyBY7g9o7Usti_iUDUSC5rRzwy3hSUstiyRCs9RotQRCwP3NhUiFiPMuarfB5QiUEUSyaUiFiy3zwrfo5rM1i6s1fHZdRo_yao_Uf6_ypo_JObm-pHOYDQfri6i-B812kgJxGgBBXZSgjH7NDZ325q1OAZ9o-Q1dFyfFN8B29zSBgHMP2_fB-P7B2PfBxHByOgAUN8u2c692gHsBN3Bo-ojBke3BHe72OysUOqB2_Z_g-qB-23BzDqV2JeMxHuOJa_7P-PJNJ1MW6epnO3BPoP7h91_-guJuE392SP7O1gcO6q1BpZ37N83V9gICiQAB03BxmgMV913Bvq1BRZ3BRq3UpZSCqHMhO3Aom83Ua1sVgHO-MyuPzq1Y2Z9P-q9P2ysoGrVtaQIuyH7N5ysomgMV913Bvq1BRZ3BRq3oyuMhsQMhMgJPcQMoNZ_g-Q9PE3I2-H7OEesxMzRPNyjrNHfgU8IoouRxfgAod6cHp1SzMZIxk33B-r7BX_M2iH72D3A-G83UpgI2q17jfZ32o81Y_oIPo8MWN_7zVH7YJ19Bo8Mo2_JoG8Bja69BqusBE3BPc8ujagfBvq1jF_M2oP1OE392o8j7p_1zS8JYJqpVvuVB2gBJYvZUDUMoDP9o7g9-wq3zwPsUi6seh6AKpbm-sy9zBgfYa8uYpP3PSg9o79fV7PI-2ySu7gZUE3aUaopHFUiFiHsHFomUDUsURHsribmUa6AnfUiFiHsKhom-Pbm-FrMBsguYiq3ei6sJ7HAnDUMP5y3hwq3ei6sUDUMg2QMVD9R-BQI-xQMWwy3zpyfYagZUEopn7bsJOHsyOHpHdos1OoAUDUSVOg9-N9R-BQI-xQMWwrfo5rM1i6snXHpyf6_ydosHfHpHh6_Hh6I7?dv=desktop&is_search=1&pub_id=0&pub_unit=0&ob=23&management_type=2&r=https%3A%2F%2Fwww.tokopedia.com%2Fbasokarawaci%2Fbakso-sapi-sule-a1-baso-karawaci%3FextParam%3Divf%253Dfalse%26src%3Dtopads&src=search&pub_domain=0&keywords=bakso&t=desktop&page=1', 'img_src': 'https://images.tokopedia.net/img/cache/200-square/VqbcmM/2021/11/3/3ecfd34c-dcea-465a-b2c4-9270db350959.jpg', 'name': 'Bakso Sapi Sule A1 - Baso Karawaci', 'price': 'Rp60.500'}\n",
      "\n",
      "{'link': 'https://www.tokopedia.com/tkkuliner/bakso-sapi-warisan-319-isi-50?extParam=ivf%3Dfalse%26src%3Dsearch', 'img_src': 'https://images.tokopedia.net/img/cache/200-square/VqbcmM/2021/8/17/de1db623-e900-4a29-b690-8ba8c3ccc8ef.jpg', 'name': 'Bakso Sapi Warisan 319 isi 50', 'price': 'Rp25.900'}\n",
      "\n",
      "{'link': 'https://www.tokopedia.com/frogomarkett/bakso-sapi-monalisa-m-100pcs?extParam=ivf%3Dfalse%26src%3Dsearch', 'img_src': 'https://images.tokopedia.net/img/cache/200-square/attachment/2019/10/3/157010893236361/157010893236361_7343fdba-73bd-49a4-9c61-c4026645087c.png', 'name': 'Bakso Sapi Monalisa M (100pcs)', 'price': 'Rp97.000'}\n",
      "\n",
      "{'link': 'https://www.tokopedia.com/brightfrozen/bakso-baso-sapi-beef-meatball-sumber-selera-kebon-jeruk-polos-isi-50?extParam=ivf%3Dfalse%26src%3Dsearch', 'img_src': 'https://images.tokopedia.net/img/cache/200-square/VqbcmM/2022/7/23/9d6f748d-30e8-49f1-a99f-c4afa007956a.jpg', 'name': 'bakso baso sapi beef meatball sumber selera kebon jeruk polos isi 50', 'price': 'Rp38.000'}\n",
      "\n",
      "{'link': 'https://www.tokopedia.com/brightfrozen/bakso-baso-sapi-sumber-selera-sb-kebon-jeruk-serba-guna-isi-50?extParam=ivf%3Dfalse%26src%3Dsearch', 'img_src': 'https://images.tokopedia.net/img/cache/200-square/VqbcmM/2022/7/23/94aa60b2-b284-4edd-945c-91cdab2f1fa0.jpg', 'name': 'bakso baso sapi sumber selera sb kebon jeruk serba guna isi 50', 'price': 'Rp53.500'}\n",
      "\n",
      "{'link': 'https://www.tokopedia.com/lattebless/bakso-daging-sapi-polos-sumber-selera-650gr-beef-meatball-50pcs-halal-polos-50pcs?extParam=ivf%3Dfalse%26src%3Dsearch', 'img_src': 'https://images.tokopedia.net/img/cache/200-square/VqbcmM/2021/9/21/0611bff2-bcd4-41dc-91a1-b6485c7e88ea.jpg', 'name': 'BAKSO DAGING SAPI POLOS SUMBER SELERA 650GR BEEF MEATBALL 50PCS HALAL', 'price': 'Rp33.500'}\n",
      "\n"
     ]
    }
   ],
   "source": [
    "for i in scrapeTokopedia():\n",
    "    print(i)\n",
    "    print(\"\")"
   ]
  },
  {
   "cell_type": "code",
   "execution_count": null,
   "metadata": {},
   "outputs": [],
   "source": []
  }
 ],
 "metadata": {
  "kernelspec": {
   "display_name": "base",
   "language": "python",
   "name": "python3"
  },
  "language_info": {
   "codemirror_mode": {
    "name": "ipython",
    "version": 3
   },
   "file_extension": ".py",
   "mimetype": "text/x-python",
   "name": "python",
   "nbconvert_exporter": "python",
   "pygments_lexer": "ipython3",
   "version": "3.9.12"
  },
  "orig_nbformat": 4
 },
 "nbformat": 4,
 "nbformat_minor": 2
}
